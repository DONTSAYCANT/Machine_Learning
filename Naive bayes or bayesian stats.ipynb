{
 "cells": [
  {
   "cell_type": "code",
   "execution_count": null,
   "metadata": {},
   "outputs": [],
   "source": [
    "Reference:\n",
    "    \n",
    "https://www.analyticsvidhya.com/blog/2017/09/naive-bayes-explained/#:~:text=Naive%20Bayes%20Model-,What%20is%20Naive%20Bayes%20algorithm%3F,presence%20of%20any%20other%20feature.\n",
    "\n",
    "    \n",
    "https://towardsdatascience.com/naive-bayes-explained-9d2b96f4a9c0\n",
    "    \n",
    "\n",
    "https://towardsdatascience.com/naive-bayes-classifier-explained-50f9723571ed\n",
    "    \n",
    "\n",
    "Supervised learning + Classification\n",
    "\n",
    "\n",
    "Bayes theorem"
   ]
  }
 ],
 "metadata": {
  "kernelspec": {
   "display_name": "Python 3",
   "language": "python",
   "name": "python3"
  },
  "language_info": {
   "codemirror_mode": {
    "name": "ipython",
    "version": 3
   },
   "file_extension": ".py",
   "mimetype": "text/x-python",
   "name": "python",
   "nbconvert_exporter": "python",
   "pygments_lexer": "ipython3",
   "version": "3.7.6"
  }
 },
 "nbformat": 4,
 "nbformat_minor": 4
}
