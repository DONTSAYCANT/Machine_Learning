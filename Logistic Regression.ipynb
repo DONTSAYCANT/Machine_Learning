{
 "cells": [
  {
   "cell_type": "markdown",
   "metadata": {},
   "source": [
    "Basics:\n",
    "    \n",
    "https://towardsdatascience.com/logistic-regression-the-basics-b1716661c71b\n",
    "    \n",
    "https://towardsdatascience.com/understanding-logistic-regression-9b02c2aec102\n",
    "    \n",
    "https://medium.com/data-science-group-iitr/logistic-regression-simplified-9b4efe801389\n",
    "    \n",
    "http://faculty.cas.usf.edu/mbrannick/regression/Logistic.html"
   ]
  }
 ],
 "metadata": {
  "kernelspec": {
   "display_name": "Python 3",
   "language": "python",
   "name": "python3"
  },
  "language_info": {
   "codemirror_mode": {
    "name": "ipython",
    "version": 3
   },
   "file_extension": ".py",
   "mimetype": "text/x-python",
   "name": "python",
   "nbconvert_exporter": "python",
   "pygments_lexer": "ipython3",
   "version": "3.7.6"
  }
 },
 "nbformat": 4,
 "nbformat_minor": 4
}
